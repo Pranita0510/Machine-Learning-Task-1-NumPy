{
 "cells": [
  {
   "cell_type": "code",
   "execution_count": 1,
   "id": "7a06025c-3f97-4f10-89fc-27356a107a75",
   "metadata": {},
   "outputs": [
    {
     "name": "stdout",
     "output_type": "stream",
     "text": [
      "hello\n"
     ]
    }
   ],
   "source": [
    "print(\"hello\")"
   ]
  },
  {
   "cell_type": "code",
   "execution_count": 2,
   "id": "50ee548b-f73b-4303-8af9-636966915169",
   "metadata": {},
   "outputs": [],
   "source": [
    "# Importing numpy\n",
    "\n",
    "import numpy as np"
   ]
  },
  {
   "cell_type": "code",
   "execution_count": 3,
   "id": "bd81314a-7eed-487e-9588-66d31463157a",
   "metadata": {},
   "outputs": [
    {
     "name": "stdout",
     "output_type": "stream",
     "text": [
      "[1, 2, 3, 4, 5, 6]\n"
     ]
    }
   ],
   "source": [
    "list=[1,2,3,4,5,6]\n",
    "print(list)"
   ]
  },
  {
   "cell_type": "code",
   "execution_count": 4,
   "id": "a62cc555-99fd-4d89-811d-2176eb9defbe",
   "metadata": {},
   "outputs": [
    {
     "name": "stdout",
     "output_type": "stream",
     "text": [
      "[20 30 40 50]\n"
     ]
    }
   ],
   "source": [
    "arr = np.array([20, 30, 40, 50])\n",
    "print(arr)"
   ]
  },
  {
   "cell_type": "code",
   "execution_count": 5,
   "id": "1ec7ea4e-a7ba-4c69-8745-71afecba1309",
   "metadata": {},
   "outputs": [
    {
     "name": "stdout",
     "output_type": "stream",
     "text": [
      "1.26.4\n"
     ]
    }
   ],
   "source": [
    "# cheaking version of numpy\n",
    "\n",
    "print(np.__version__)"
   ]
  },
  {
   "cell_type": "code",
   "execution_count": 6,
   "id": "d323b55d-8f35-49fe-9de4-a54d47ab93bb",
   "metadata": {},
   "outputs": [
    {
     "name": "stdout",
     "output_type": "stream",
     "text": [
      "[1 2 3 4 5]\n",
      "<class 'numpy.ndarray'>\n"
     ]
    }
   ],
   "source": [
    "arr1 = np.array([1,2,3,4,5])\n",
    "print(arr1)\n",
    "print(type(arr1))"
   ]
  },
  {
   "cell_type": "code",
   "execution_count": 7,
   "id": "d3529953-c093-416f-af97-2aade3f4ba1c",
   "metadata": {},
   "outputs": [
    {
     "name": "stdout",
     "output_type": "stream",
     "text": [
      "[1 2 3 4 5]\n",
      "<class 'numpy.ndarray'>\n"
     ]
    }
   ],
   "source": [
    "arr2 = np.array((1,2,3,4,5))\n",
    "print(arr2)\n",
    "print(type(arr2))"
   ]
  },
  {
   "cell_type": "code",
   "execution_count": 8,
   "id": "b42cf24b-a2ee-47e9-943b-ca1c7b3ea0e8",
   "metadata": {},
   "outputs": [
    {
     "name": "stdout",
     "output_type": "stream",
     "text": [
      "[34]\n"
     ]
    }
   ],
   "source": [
    "# 0 darray\n",
    "\n",
    "arr3 = np.array([34])\n",
    "print(arr3)"
   ]
  },
  {
   "cell_type": "code",
   "execution_count": 9,
   "id": "afe6a24f-e821-4a45-a938-121891408464",
   "metadata": {},
   "outputs": [
    {
     "name": "stdout",
     "output_type": "stream",
     "text": [
      "[34 45 56]\n"
     ]
    }
   ],
   "source": [
    "# 1 darray\n",
    "\n",
    "arr4 = np.array([34,45,56])\n",
    "print(arr4)"
   ]
  },
  {
   "cell_type": "code",
   "execution_count": 10,
   "id": "8bdfc566-64c0-4a2f-bb93-80335874ee7c",
   "metadata": {},
   "outputs": [
    {
     "name": "stdout",
     "output_type": "stream",
     "text": [
      "[[34 45 56]\n",
      " [57 78 79]]\n"
     ]
    }
   ],
   "source": [
    "# 2 darray\n",
    "\n",
    "arr5 = np.array([[34,45,56], [57,78,79]])\n",
    "print(arr5)"
   ]
  },
  {
   "cell_type": "code",
   "execution_count": 11,
   "id": "d02622cf-a477-41d0-8cfe-df734c38ec41",
   "metadata": {},
   "outputs": [
    {
     "name": "stdout",
     "output_type": "stream",
     "text": [
      "[[[1 2 3]\n",
      "  [4 5 6]]\n",
      "\n",
      " [[1 2 3]\n",
      "  [4 5 6]]]\n"
     ]
    }
   ],
   "source": [
    "# 3darray\n",
    "\n",
    "arr6 = np.array([[[1, 2, 3], [4, 5, 6]], [[1, 2, 3], [4, 5, 6]]])\n",
    "print(arr6)"
   ]
  },
  {
   "cell_type": "code",
   "execution_count": 12,
   "id": "95395412-3b7f-422e-83a6-8b8362b3dd80",
   "metadata": {},
   "outputs": [
    {
     "name": "stdout",
     "output_type": "stream",
     "text": [
      "3\n"
     ]
    }
   ],
   "source": [
    "# To cheak dimensionality\n",
    "\n",
    "print(arr6.ndim)"
   ]
  },
  {
   "cell_type": "code",
   "execution_count": 13,
   "id": "62b15c1d-1629-40f6-9bfa-2f1527429d53",
   "metadata": {},
   "outputs": [
    {
     "name": "stdout",
     "output_type": "stream",
     "text": [
      "50\n"
     ]
    }
   ],
   "source": [
    "# Accessing elements 1D\n",
    "\n",
    "arr = np.array([20,30,40,50,60])\n",
    "print(arr[3])"
   ]
  },
  {
   "cell_type": "code",
   "execution_count": 14,
   "id": "adb53ac9-5b0f-4faf-a69f-5978d5f22e59",
   "metadata": {},
   "outputs": [
    {
     "name": "stdout",
     "output_type": "stream",
     "text": [
      "2nd element on 1st row:  2\n"
     ]
    }
   ],
   "source": [
    "#Accessing 2D array elements\n",
    "\n",
    "arr = np.array([[1,2,3,4,5], \n",
    "                [6,7,8,9,10]])\n",
    "\n",
    "print('2nd element on 1st row: ', arr[0, 1])"
   ]
  },
  {
   "cell_type": "code",
   "execution_count": 15,
   "id": "06bad6ed-ba60-46b4-800d-0e13ed99282b",
   "metadata": {},
   "outputs": [
    {
     "name": "stdout",
     "output_type": "stream",
     "text": [
      "2nd element on 1st row:  5\n"
     ]
    }
   ],
   "source": [
    "#Accessing 2D array elements with -ve indexing\n",
    "\n",
    "arr = np.array([[1,2,3,4,5], \n",
    "                [6,7,8,9,10]])\n",
    "\n",
    "print('2nd element on 1st row: ', arr[0, -1])"
   ]
  },
  {
   "cell_type": "code",
   "execution_count": 16,
   "id": "c6bd32ae-26dc-43e7-a360-8f4b6ff2e406",
   "metadata": {},
   "outputs": [
    {
     "name": "stdout",
     "output_type": "stream",
     "text": [
      "[ 2  4  6  8 10]\n"
     ]
    }
   ],
   "source": [
    "# Accessing elements using slicing\n",
    "\n",
    "arr = np.array([1,2,3,4,5,6,7,8,9,10])\n",
    "print(arr[1:11:2])"
   ]
  },
  {
   "cell_type": "code",
   "execution_count": 17,
   "id": "8ae39da2-434f-4650-8399-3e9ff8c96228",
   "metadata": {},
   "outputs": [
    {
     "name": "stdout",
     "output_type": "stream",
     "text": [
      "[8 9]\n",
      "[6 8]\n"
     ]
    }
   ],
   "source": [
    "# Accessing elements using -ve slicing\n",
    "\n",
    "arr = np.array([1,2,3,4,5,6,7,8,9,10])\n",
    "print(arr[-3:-1])\n",
    "print(arr[5:9:2])"
   ]
  },
  {
   "cell_type": "code",
   "execution_count": 18,
   "id": "3f5ebcb2-d29d-4dac-a190-596a68022f6f",
   "metadata": {},
   "outputs": [
    {
     "name": "stdout",
     "output_type": "stream",
     "text": [
      "float64\n"
     ]
    }
   ],
   "source": [
    "# cheaking datatype\n",
    "\n",
    "arr = np.array([1,2,3.0,4.6,5.8,6,7,8])\n",
    "print(arr.dtype)"
   ]
  },
  {
   "cell_type": "code",
   "execution_count": 19,
   "id": "bdda519b-e903-4c4b-827c-4d423a34e8c6",
   "metadata": {},
   "outputs": [
    {
     "name": "stdout",
     "output_type": "stream",
     "text": [
      "float64\n",
      "[1 2 3 4 5 6 7 8]\n"
     ]
    }
   ],
   "source": [
    "# Conversion of datatype\n",
    "\n",
    "arr = np.array([1,2,3.0,4.6,5.8,6,7,8])\n",
    "print(arr.dtype)\n",
    "print(arr.astype(int))"
   ]
  },
  {
   "cell_type": "code",
   "execution_count": 20,
   "id": "3cdb680f-0b06-4d81-8fd0-b5785e878a4c",
   "metadata": {},
   "outputs": [
    {
     "name": "stdout",
     "output_type": "stream",
     "text": [
      "(2, 4)\n",
      "8\n"
     ]
    }
   ],
   "source": [
    "# Cheaking shape of an array ((a,b) where a shows rows and b represents elements in column)\n",
    "\n",
    "arr = np.array([[1, 2, 3, 4],\n",
    "                [5, 6, 7, 8]]) \n",
    "print(arr.shape) \n",
    "\n",
    "print(arr.size)"
   ]
  },
  {
   "cell_type": "code",
   "execution_count": 21,
   "id": "04e1bd7f-f78e-49a9-810f-9d7c8226bf0f",
   "metadata": {
    "scrolled": true
   },
   "outputs": [
    {
     "name": "stdout",
     "output_type": "stream",
     "text": [
      "[[ 1  2  3]\n",
      " [ 4  5  6]\n",
      " [ 7  8  9]\n",
      " [10 11 12]]\n"
     ]
    }
   ],
   "source": [
    "# Reshaping array\n",
    "\n",
    "arr = np.array([1, 2, 3, 4, 5, 6, 7, 8, 9, 10, 11, 12]) \n",
    "newarr = arr.reshape(4, 3) \n",
    "print(newarr) "
   ]
  },
  {
   "cell_type": "code",
   "execution_count": 22,
   "id": "9cf82d47-1287-4cee-b6fd-b39c353e4a03",
   "metadata": {},
   "outputs": [
    {
     "name": "stdout",
     "output_type": "stream",
     "text": [
      "1\n",
      "2\n",
      "3\n"
     ]
    }
   ],
   "source": [
    "# Iterating elements\n",
    "\n",
    "arr = np.array([1, 2, 3]) \n",
    "for x in arr: \n",
    "     print(x) "
   ]
  },
  {
   "cell_type": "code",
   "execution_count": 23,
   "id": "98953ead-5800-4b13-aa69-e31756e07e1d",
   "metadata": {},
   "outputs": [
    {
     "name": "stdout",
     "output_type": "stream",
     "text": [
      "[1 2 3 4 5 6]\n"
     ]
    }
   ],
   "source": [
    "# Joining array\n",
    "\n",
    "arr1 = np.array([1,2,3])\n",
    "arr2 = np.array([4,5,6])\n",
    "newarr = np.concatenate((arr1,arr2))\n",
    "print(newarr)"
   ]
  },
  {
   "cell_type": "code",
   "execution_count": 24,
   "id": "69e84d01-23e8-4839-a368-c66266795b45",
   "metadata": {},
   "outputs": [
    {
     "name": "stdout",
     "output_type": "stream",
     "text": [
      "[array([1, 2]), array([3, 4]), array([5, 6])]\n"
     ]
    }
   ],
   "source": [
    "# Splitting array\n",
    "\n",
    "arr = np.array([1, 2, 3, 4, 5, 6]) \n",
    "newarr = np.array_split(arr, 3) \n",
    "print(newarr) "
   ]
  },
  {
   "cell_type": "code",
   "execution_count": 25,
   "id": "ac9fde6d-ce79-47d7-9826-d6e07fc51f67",
   "metadata": {},
   "outputs": [
    {
     "name": "stdout",
     "output_type": "stream",
     "text": [
      "(array([7], dtype=int64),)\n"
     ]
    }
   ],
   "source": [
    "# Searching array(It returns with index)\n",
    "\n",
    "arr = np.array([1,2,3,4,5,6,7,8])\n",
    "x=np.where(arr==8)\n",
    "print(x)"
   ]
  },
  {
   "cell_type": "code",
   "execution_count": 26,
   "id": "bf867f47-dce5-4712-ae25-3ea0b287a411",
   "metadata": {},
   "outputs": [
    {
     "name": "stdout",
     "output_type": "stream",
     "text": [
      "[0 2 2 3 6 7 9]\n",
      "[9 7 7 3 1 0]\n"
     ]
    }
   ],
   "source": [
    "# Sorting array\n",
    "\n",
    "arr1 = np.array([3,6,2,7,9,2,0])         # for ascending order\n",
    "print(np.sort(arr1))\n",
    "\n",
    "arr2 = np.array([3,7,1,0,9,7])          # for Descending order\n",
    "print(np.sort(arr2)[::-1])"
   ]
  },
  {
   "cell_type": "code",
   "execution_count": 27,
   "id": "b1e45cd2-d703-4d77-a28d-f80c24b62588",
   "metadata": {},
   "outputs": [
    {
     "name": "stdout",
     "output_type": "stream",
     "text": [
      "[41 43]\n"
     ]
    }
   ],
   "source": [
    "# Filtering array\n",
    "\n",
    "arr = np.array([41, 42, 43, 44]) \n",
    "x = [True, False, True, False] \n",
    "newarr = arr[x] \n",
    "print(newarr) "
   ]
  },
  {
   "cell_type": "code",
   "execution_count": 28,
   "id": "c336ecad-4ef3-4763-bcdc-73a1715ff387",
   "metadata": {},
   "outputs": [
    {
     "name": "stdout",
     "output_type": "stream",
     "text": [
      "[False, False, True, True]\n",
      "[43 44]\n"
     ]
    }
   ],
   "source": [
    "arr = np.array([41, 42, 43, 44])                                 # append = adding elements in new array at the end\n",
    "\n",
    "# Create an empty list                                           # Insert = adding elements at specific index of an array\n",
    "filter_arr = [] \n",
    "\n",
    "# go through each element in arr \n",
    "for element in arr: \n",
    "# if the element is higher than 42, set the value to True, otherwise False: \n",
    "     if element > 42: \n",
    "          filter_arr.append(True) \n",
    "     else: \n",
    "          filter_arr.append(False)\n",
    "\n",
    "newarr = arr[filter_arr] \n",
    "\n",
    "print(filter_arr)\n",
    "\n",
    "print(newarr) "
   ]
  },
  {
   "cell_type": "code",
   "execution_count": 29,
   "id": "e9f2a72b-8787-4a1a-b65f-6fb30138ae5f",
   "metadata": {},
   "outputs": [
    {
     "name": "stdout",
     "output_type": "stream",
     "text": [
      "[20 30 40 50 60]\n",
      "[20 30 90 80 40]\n",
      "[20 40]\n"
     ]
    }
   ],
   "source": [
    "# Adding and Removing elements\n",
    "\n",
    "arr = np.array([20,30,40])\n",
    "print(np.append(arr,[50,60]))\n",
    "\n",
    "print(np.insert(arr,2,[90,80]))         # (arr,index,element)\n",
    "\n",
    "print(np.delete(arr,[1]))"
   ]
  },
  {
   "cell_type": "code",
   "execution_count": 30,
   "id": "73a2a7cd-a021-433c-af11-2409481ebf8f",
   "metadata": {},
   "outputs": [
    {
     "name": "stdout",
     "output_type": "stream",
     "text": [
      "140\n",
      "20\n",
      "50\n",
      "[ 20  50  90 140]\n"
     ]
    }
   ],
   "source": [
    "# Aggregating functions\n",
    "\n",
    "a = np.array([20,30,40,50])\n",
    "\n",
    "# sum of all elements\n",
    "print(np.sum(a))\n",
    "\n",
    "# Minimum\n",
    "print(np.min(a))\n",
    "\n",
    "# maximum\n",
    "print(np.max(a))\n",
    "\n",
    "# Cumulative sum\n",
    "print(np.cumsum(a))"
   ]
  },
  {
   "cell_type": "code",
   "execution_count": 31,
   "id": "f11db4f6-772b-4add-836c-06f4c895fa7c",
   "metadata": {},
   "outputs": [
    {
     "name": "stdout",
     "output_type": "stream",
     "text": [
      "37.0\n",
      "30.0\n",
      "20\n"
     ]
    }
   ],
   "source": [
    "# Statistical Functions\n",
    "\n",
    "import statistics as stats\n",
    "\n",
    "food_price = [20,30,40,50,60,70,20,30,20,30]\n",
    "a = np.array(food_price)\n",
    "\n",
    "# Mean \n",
    "print(np.mean(a))\n",
    "\n",
    "# Median \n",
    "print(np.median(a))\n",
    "\n",
    "# Mode\n",
    "print(stats.mode(a))"
   ]
  },
  {
   "cell_type": "code",
   "execution_count": null,
   "id": "70cf3c35-9e44-430e-b280-3d34190a6f44",
   "metadata": {},
   "outputs": [],
   "source": []
  }
 ],
 "metadata": {
  "kernelspec": {
   "display_name": "Python 3 (ipykernel)",
   "language": "python",
   "name": "python3"
  },
  "language_info": {
   "codemirror_mode": {
    "name": "ipython",
    "version": 3
   },
   "file_extension": ".py",
   "mimetype": "text/x-python",
   "name": "python",
   "nbconvert_exporter": "python",
   "pygments_lexer": "ipython3",
   "version": "3.12.7"
  }
 },
 "nbformat": 4,
 "nbformat_minor": 5
}
